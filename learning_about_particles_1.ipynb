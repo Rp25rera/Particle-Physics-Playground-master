{
 "metadata": {
  "name": ""
 },
 "nbformat": 3,
 "nbformat_minor": 0,
 "worksheets": [
  {
   "cells": [
    {
     "cell_type": "heading",
     "level": 1,
     "metadata": {},
     "source": [
      "Learning about particles and their properties."
     ]
    },
    {
     "cell_type": "markdown",
     "metadata": {},
     "source": [
      "<h3>Learning goals</h3>\n",
      "<ul>\n",
      "    <li>Relativistic kinematics.\n",
      "    <li>Standard model particles.\n",
      "    <li>Special Relativity.\n",
      "</ul>"
     ]
    },
    {
     "cell_type": "markdown",
     "metadata": {},
     "source": [
      "<b>Background</b>\n",
      "\n",
      "Every particle is unique. They each have different masses, lifetimes, decay methods and many other properties. \n",
      "\n",
      "To find the distance a particle travels in one lifetime, you need to know the lifetime of the particle and the speed of light. The formula to find the distance travelled in one lifetime is $ d= v*t. $ Where $v$ is the speed of light and $t$ is the lifetime of the particle. The speed of light is $3*10^8  m/s^2$. \n",
      "\n",
      "To find the distance travelled with different momenta you need to know, the particles momentum, mass, and lifetime. \n",
      "\n",
      "One concept in Einstein's <a href=\"http://en.wikipedia.org/wiki/Special_relativity\">special relativity</a> is <a href=\"http://en.wikipedia.org/wiki/Time_dilation\">time dilation</a>. This means moving clocks are measured to tick more slowly than an observer's \"stationary\" clock.  This concept needs to be kept in mind when solving for the distance travelled at high velocities. \n",
      "\n",
      "Some important equations you need to know are:\n",
      "\n",
      "$E = \\sqrt{(p*c)^2 + (m^2*c)^2}$\n",
      "\n",
      "$\\beta = \\frac{v}{c}$\n",
      "\n",
      "$\\frac{p}{E} = \\frac{\\beta}{c}$\n",
      "\n",
      "$\\gamma = \\frac{1}{\\sqrt{1-\\beta^2}}$\n",
      "\n",
      "$t = \\gamma*t_0$"
     ]
    },
    {
     "cell_type": "markdown",
     "metadata": {},
     "source": [
      "<b>Let's code!</b>\n",
      "\n",
      "Here is a sample code that creates a table of the lifetime and distance traveled in one lifetime for three different particles."
     ]
    },
    {
     "cell_type": "code",
     "collapsed": false,
     "input": [
      "particles = [\"B\",\"D\",\"J/Psi\"]\n",
      "\n",
      "lifetimes = [4,5,2]\n",
      "\n",
      "for p,l in zip(particles,lifetimes):\n",
      "    distance = 3e8*l\n",
      "    print \"%-5s lifetime=%f   distance=%f\" % (p,l,distance)"
     ],
     "language": "python",
     "metadata": {},
     "outputs": [
      {
       "output_type": "stream",
       "stream": "stdout",
       "text": [
        "B     lifetime=4.000000   distance=1200000000.000000\n",
        "D     lifetime=5.000000   distance=1500000000.000000\n",
        "J/Psi lifetime=2.000000   distance=600000000.000000\n"
       ]
      }
     ],
     "prompt_number": 33
    },
    {
     "cell_type": "markdown",
     "metadata": {},
     "source": [
      "<h3>Particles</h3>\n",
      "<ul>\n",
      "    <li>mu+/mu-\n",
      "    <li>tau+/tau-\n",
      "    <li>pi+/pi-\n",
      "    <li>pi0\n",
      "    <li>K+/K-\n",
      "    <li>K(short)\n",
      "    <li>K(long)\n",
      "    <li>D+/D-\n",
      "    <li>B+/B-\n",
      "    <li>B0\n",
      "    <li>J/Psi\n",
      "    <li>Upsilon(1S)\n",
      "</ul>"
     ]
    },
    {
     "cell_type": "markdown",
     "metadata": {},
     "source": [
      "<h2><font color=\"red\">Challenge!</font></h2>\n",
      "\n",
      "Finish the table for every particle listed above with an output of the particles name, the lifetime, the mass, the distance travelled in one lifetime, the momentum, and how far the travel in one lifetime given different momentum.  "
     ]
    },
    {
     "cell_type": "code",
     "collapsed": false,
     "input": [
      "particles = [\"B\",\"D\",\"J/Psi\"]\n",
      "lifetimes = [4,5,2]\n",
      "c = 3*(10**8)\n",
      "for p,l in zip(particles,lifetimes):\n",
      "    distance = c*l\n",
      "    print \"%-5s lifetime=%f   distance=%f\" % (p,l,distance)"
     ],
     "language": "python",
     "metadata": {},
     "outputs": [
      {
       "output_type": "stream",
       "stream": "stdout",
       "text": [
        "B     lifetime=4.000000   distance=1200000000.000000\n",
        "D     lifetime=5.000000   distance=1500000000.000000\n",
        "J/Psi lifetime=2.000000   distance=600000000.000000\n"
       ]
      }
     ],
     "prompt_number": 34
    },
    {
     "cell_type": "code",
     "collapsed": false,
     "input": [
      "#your code here"
     ],
     "language": "python",
     "metadata": {},
     "outputs": [],
     "prompt_number": 1
    }
   ],
   "metadata": {}
  }
 ]
}